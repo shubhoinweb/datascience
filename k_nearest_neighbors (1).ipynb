{
  "nbformat": 4,
  "nbformat_minor": 0,
  "metadata": {
    "colab": {
      "provenance": [],
      "collapsed_sections": [],
      "machine_shape": "hm"
    },
    "kernelspec": {
      "name": "python3",
      "display_name": "Python 3"
    }
  },
  "cells": [
    {
      "cell_type": "markdown",
      "metadata": {
        "id": "0MRC0e0KhQ0S"
      },
      "source": [
        "# K-Nearest Neighbors (K-NN)"
      ]
    },
    {
      "cell_type": "markdown",
      "metadata": {
        "id": "LWd1UlMnhT2s"
      },
      "source": [
        "## Importing the libraries"
      ]
    },
    {
      "cell_type": "code",
      "metadata": {
        "id": "YvGPUQaHhXfL"
      },
      "source": [
        "import numpy as np\n",
        "import matplotlib.pyplot as plt\n",
        "import pandas as pd"
      ],
      "execution_count": 19,
      "outputs": []
    },
    {
      "cell_type": "markdown",
      "metadata": {
        "id": "K1VMqkGvhc3-"
      },
      "source": [
        "## Importing the dataset"
      ]
    },
    {
      "cell_type": "code",
      "metadata": {
        "id": "M52QDmyzhh9s"
      },
      "source": [
        "dataset = pd.read_csv('Dataset train.csv')\n",
        "X = dataset.iloc[:, :-1].values\n",
        "y = dataset.iloc[:, -1].values"
      ],
      "execution_count": 20,
      "outputs": []
    },
    {
      "cell_type": "markdown",
      "metadata": {
        "id": "YvxIPVyMhmKp"
      },
      "source": [
        "## Splitting the dataset into the Training set and Test set"
      ]
    },
    {
      "cell_type": "code",
      "metadata": {
        "id": "AVzJWAXIhxoC"
      },
      "source": [
        "from sklearn.model_selection import train_test_split\n",
        "X_train, X_test, y_train, y_test = train_test_split(X, y, test_size = 0.25, random_state = 0)"
      ],
      "execution_count": 21,
      "outputs": []
    },
    {
      "cell_type": "code",
      "metadata": {
        "id": "P3nS3-6r1i2B",
        "outputId": "ba67d225-d0e6-42e7-af2d-9d50e36c5449",
        "colab": {
          "base_uri": "https://localhost:8080/"
        }
      },
      "source": [
        "print(X_train)"
      ],
      "execution_count": 22,
      "outputs": [
        {
          "output_type": "stream",
          "name": "stdout",
          "text": [
            "[[5.310e+02 0.000e+00 1.100e+00 ... 0.000e+00 1.000e+00 0.000e+00]\n",
            " [7.640e+02 1.000e+00 1.200e+00 ... 1.000e+00 1.000e+00 0.000e+00]\n",
            " [1.812e+03 1.000e+00 1.300e+00 ... 1.000e+00 1.000e+00 1.000e+00]\n",
            " ...\n",
            " [1.190e+03 0.000e+00 2.000e+00 ... 0.000e+00 0.000e+00 1.000e+00]\n",
            " [1.191e+03 0.000e+00 2.400e+00 ... 1.000e+00 1.000e+00 1.000e+00]\n",
            " [7.060e+02 0.000e+00 5.000e-01 ... 1.000e+00 0.000e+00 1.000e+00]]\n"
          ]
        }
      ]
    },
    {
      "cell_type": "code",
      "metadata": {
        "id": "8dpDLojm1mVG",
        "outputId": "d08efc46-b8fc-4d1d-c440-8b23a236fac3",
        "colab": {
          "base_uri": "https://localhost:8080/"
        }
      },
      "source": [
        "print(y_train)"
      ],
      "execution_count": 23,
      "outputs": [
        {
          "output_type": "stream",
          "name": "stdout",
          "text": [
            "[2 2 3 ... 3 0 1]\n"
          ]
        }
      ]
    },
    {
      "cell_type": "code",
      "metadata": {
        "id": "qbb7i0DH1qui",
        "outputId": "60629c11-35ce-4ef7-e029-4c6a83872459",
        "colab": {
          "base_uri": "https://localhost:8080/"
        }
      },
      "source": [
        "print(X_test)"
      ],
      "execution_count": 24,
      "outputs": [
        {
          "output_type": "stream",
          "name": "stdout",
          "text": [
            "[[1.454e+03 1.000e+00 5.000e-01 ... 1.000e+00 1.000e+00 0.000e+00]\n",
            " [1.092e+03 1.000e+00 5.000e-01 ... 0.000e+00 1.000e+00 0.000e+00]\n",
            " [1.524e+03 1.000e+00 1.800e+00 ... 1.000e+00 0.000e+00 1.000e+00]\n",
            " ...\n",
            " [1.759e+03 1.000e+00 1.400e+00 ... 1.000e+00 1.000e+00 0.000e+00]\n",
            " [5.140e+02 1.000e+00 1.600e+00 ... 1.000e+00 1.000e+00 1.000e+00]\n",
            " [1.410e+03 1.000e+00 5.000e-01 ... 1.000e+00 1.000e+00 0.000e+00]]\n"
          ]
        }
      ]
    },
    {
      "cell_type": "code",
      "metadata": {
        "id": "kj1hnFAR1s5w",
        "outputId": "f0aadf64-8e88-4720-f56d-efe0eedd96f6",
        "colab": {
          "base_uri": "https://localhost:8080/"
        }
      },
      "source": [
        "print(y_test)"
      ],
      "execution_count": 25,
      "outputs": [
        {
          "output_type": "stream",
          "name": "stdout",
          "text": [
            "[3 0 2 2 2 0 0 3 3 1 1 3 0 2 3 0 3 2 2 1 0 0 3 1 2 2 3 1 3 1 1 0 2 0 1 3 0\n",
            " 0 3 3 3 1 3 3 1 3 0 1 3 1 1 3 0 3 0 3 2 2 0 3 3 1 3 2 1 2 3 2 2 2 3 2 1 0\n",
            " 1 3 2 2 1 2 3 3 3 0 0 0 2 1 2 3 1 2 2 1 0 3 3 3 0 3 1 1 2 1 3 2 2 3 2 3 3\n",
            " 0 0 1 3 3 0 0 1 0 0 3 2 2 1 1 1 1 0 2 1 3 2 3 3 3 3 2 0 1 1 2 1 3 1 3 0 0\n",
            " 2 0 1 1 1 1 3 0 0 3 1 3 2 1 3 1 2 3 3 2 1 0 3 1 2 3 3 0 2 2 3 0 2 1 0 1 2\n",
            " 1 2 0 3 3 1 1 0 2 3 0 1 2 2 0 3 3 3 1 2 3 3 3 0 0 0 2 3 3 0 0 1 3 1 3 3 3\n",
            " 0 0 2 3 3 1 0 2 0 0 0 3 2 0 2 2 1 1 0 2 3 3 0 0 1 3 3 2 3 0 3 1 1 0 2 3 3\n",
            " 2 0 0 1 2 3 2 2 3 2 1 0 3 3 2 1 3 2 2 2 1 0 2 2 1 0 0 2 2 2 2 0 1 3 0 1 2\n",
            " 3 0 2 0 1 1 3 0 0 2 3 1 2 0 2 0 3 0 3 3 2 3 1 2 2 1 1 1 0 1 0 3 1 0 3 0 0\n",
            " 1 3 0 3 1 2 0 1 3 0 2 2 1 2 1 1 0 2 0 0 3 1 2 3 2 2 0 3 2 2 1 3 2 3 3 3 0\n",
            " 2 0 3 0 1 1 2 2 1 3 1 2 0 1 2 3 0 0 1 3 0 3 0 2 2 1 1 0 2 1 0 1 3 0 3 3 0\n",
            " 2 1 3 1 1 3 2 0 3 2 2 0 0 3 0 1 1 1 3 2 3 2 0 3 0 0 1 3 0 0 3 2 2 2 3 0 0\n",
            " 1 2 1 2 0 3 3 0 3 3 0 2 2 1 0 2 2 1 3 2 2 0 2 0 3 3 2 1 0 3 1 2 0 0 1 3 0\n",
            " 3 0 0 2 2 0 1 3 0 3 2 1 2 0 3 1 2 3 2]\n"
          ]
        }
      ]
    },
    {
      "cell_type": "markdown",
      "metadata": {
        "id": "kW3c7UYih0hT"
      },
      "source": [
        "## Feature Scaling"
      ]
    },
    {
      "cell_type": "code",
      "metadata": {
        "id": "9fQlDPKCh8sc"
      },
      "source": [
        "from sklearn.preprocessing import StandardScaler\n",
        "sc = StandardScaler()\n",
        "X_train = sc.fit_transform(X_train)\n",
        "X_test = sc.transform(X_test)"
      ],
      "execution_count": 26,
      "outputs": []
    },
    {
      "cell_type": "code",
      "metadata": {
        "id": "syrnD1Op2BSR",
        "outputId": "3bc9bd64-da44-4a5e-98c6-2a26561c4561",
        "colab": {
          "base_uri": "https://localhost:8080/"
        }
      },
      "source": [
        "print(X_train)"
      ],
      "execution_count": 27,
      "outputs": [
        {
          "output_type": "stream",
          "name": "stdout",
          "text": [
            "[[-1.58954736 -0.97628121 -0.54409463 ... -1.77951304  1.01072417\n",
            "  -1.02840321]\n",
            " [-1.06204271  1.02429504 -0.42202734 ...  0.56195149  1.01072417\n",
            "  -1.02840321]\n",
            " [ 1.31059626  1.02429504 -0.29996004 ...  0.56195149  1.01072417\n",
            "   0.97238125]\n",
            " ...\n",
            " [-0.09759213 -0.97628121  0.55451104 ... -1.77951304 -0.98938962\n",
            "   0.97238125]\n",
            " [-0.09532817 -0.97628121  1.04278023 ...  0.56195149  1.01072417\n",
            "   0.97238125]\n",
            " [-1.19335288 -0.97628121 -1.27649842 ...  0.56195149 -0.98938962\n",
            "   0.97238125]]\n"
          ]
        }
      ]
    },
    {
      "cell_type": "code",
      "metadata": {
        "id": "JUd6iBRp2C3L",
        "outputId": "9ddb7246-4cd3-44c1-f848-75fcfca1c8fd",
        "colab": {
          "base_uri": "https://localhost:8080/"
        }
      },
      "source": [
        "print(X_test)"
      ],
      "execution_count": 28,
      "outputs": [
        {
          "output_type": "stream",
          "name": "stdout",
          "text": [
            "[[ 0.50009554  1.02429504 -1.27649842 ...  0.56195149  1.01072417\n",
            "  -1.02840321]\n",
            " [-0.31946105  1.02429504 -1.27649842 ... -1.77951304  1.01072417\n",
            "  -1.02840321]\n",
            " [ 0.65857334  1.02429504  0.31037645 ...  0.56195149 -0.98938962\n",
            "   0.97238125]\n",
            " ...\n",
            " [ 1.19060593  1.02429504 -0.17789274 ...  0.56195149  1.01072417\n",
            "  -1.02840321]\n",
            " [-1.62803483  1.02429504  0.06624185 ...  0.56195149  1.01072417\n",
            "   0.97238125]\n",
            " [ 0.40048093  1.02429504 -1.27649842 ...  0.56195149  1.01072417\n",
            "  -1.02840321]]\n"
          ]
        }
      ]
    },
    {
      "cell_type": "markdown",
      "metadata": {
        "id": "bb6jCOCQiAmP"
      },
      "source": [
        "## Training the K-NN model on the Training set"
      ]
    },
    {
      "cell_type": "code",
      "metadata": {
        "id": "e0pFVAmciHQs",
        "outputId": "8cba370c-c900-4ae8-db30-17959c79376e",
        "colab": {
          "base_uri": "https://localhost:8080/"
        }
      },
      "source": [
        "from sklearn.neighbors import KNeighborsClassifier\n",
        "classifier = KNeighborsClassifier(n_neighbors = 5, metric = 'minkowski', p = 2)\n",
        "classifier.fit(X_train, y_train)"
      ],
      "execution_count": 29,
      "outputs": [
        {
          "output_type": "execute_result",
          "data": {
            "text/plain": [
              "KNeighborsClassifier()"
            ]
          },
          "metadata": {},
          "execution_count": 29
        }
      ]
    },
    {
      "cell_type": "markdown",
      "metadata": {
        "id": "yyxW5b395mR2"
      },
      "source": [
        "## Predicting a new result"
      ]
    },
    {
      "cell_type": "code",
      "metadata": {
        "id": "f8YOXsQy58rP",
        "outputId": "5340a7fe-c3ed-4fa0-ad67-cdc383c744f5",
        "colab": {
          "base_uri": "https://localhost:8080/",
          "height": 311
        }
      },
      "source": [
        "print(classifier.predict(sc.transform([[30,87000]])))"
      ],
      "execution_count": 30,
      "outputs": [
        {
          "output_type": "error",
          "ename": "ValueError",
          "evalue": "ignored",
          "traceback": [
            "\u001b[0;31m---------------------------------------------------------------------------\u001b[0m",
            "\u001b[0;31mValueError\u001b[0m                                Traceback (most recent call last)",
            "\u001b[0;32m<ipython-input-30-88186c8a6ece>\u001b[0m in \u001b[0;36m<module>\u001b[0;34m\u001b[0m\n\u001b[0;32m----> 1\u001b[0;31m \u001b[0mprint\u001b[0m\u001b[0;34m(\u001b[0m\u001b[0mclassifier\u001b[0m\u001b[0;34m.\u001b[0m\u001b[0mpredict\u001b[0m\u001b[0;34m(\u001b[0m\u001b[0msc\u001b[0m\u001b[0;34m.\u001b[0m\u001b[0mtransform\u001b[0m\u001b[0;34m(\u001b[0m\u001b[0;34m[\u001b[0m\u001b[0;34m[\u001b[0m\u001b[0;36m30\u001b[0m\u001b[0;34m,\u001b[0m\u001b[0;36m87000\u001b[0m\u001b[0;34m]\u001b[0m\u001b[0;34m]\u001b[0m\u001b[0;34m)\u001b[0m\u001b[0;34m)\u001b[0m\u001b[0;34m)\u001b[0m\u001b[0;34m\u001b[0m\u001b[0;34m\u001b[0m\u001b[0m\n\u001b[0m",
            "\u001b[0;32m/usr/local/lib/python3.7/dist-packages/sklearn/preprocessing/_data.py\u001b[0m in \u001b[0;36mtransform\u001b[0;34m(self, X, copy)\u001b[0m\n\u001b[1;32m    978\u001b[0m             \u001b[0mestimator\u001b[0m\u001b[0;34m=\u001b[0m\u001b[0mself\u001b[0m\u001b[0;34m,\u001b[0m\u001b[0;34m\u001b[0m\u001b[0;34m\u001b[0m\u001b[0m\n\u001b[1;32m    979\u001b[0m             \u001b[0mdtype\u001b[0m\u001b[0;34m=\u001b[0m\u001b[0mFLOAT_DTYPES\u001b[0m\u001b[0;34m,\u001b[0m\u001b[0;34m\u001b[0m\u001b[0;34m\u001b[0m\u001b[0m\n\u001b[0;32m--> 980\u001b[0;31m             \u001b[0mforce_all_finite\u001b[0m\u001b[0;34m=\u001b[0m\u001b[0;34m\"allow-nan\"\u001b[0m\u001b[0;34m,\u001b[0m\u001b[0;34m\u001b[0m\u001b[0;34m\u001b[0m\u001b[0m\n\u001b[0m\u001b[1;32m    981\u001b[0m         )\n\u001b[1;32m    982\u001b[0m \u001b[0;34m\u001b[0m\u001b[0m\n",
            "\u001b[0;32m/usr/local/lib/python3.7/dist-packages/sklearn/base.py\u001b[0m in \u001b[0;36m_validate_data\u001b[0;34m(self, X, y, reset, validate_separately, **check_params)\u001b[0m\n\u001b[1;32m    583\u001b[0m \u001b[0;34m\u001b[0m\u001b[0m\n\u001b[1;32m    584\u001b[0m         \u001b[0;32mif\u001b[0m \u001b[0;32mnot\u001b[0m \u001b[0mno_val_X\u001b[0m \u001b[0;32mand\u001b[0m \u001b[0mcheck_params\u001b[0m\u001b[0;34m.\u001b[0m\u001b[0mget\u001b[0m\u001b[0;34m(\u001b[0m\u001b[0;34m\"ensure_2d\"\u001b[0m\u001b[0;34m,\u001b[0m \u001b[0;32mTrue\u001b[0m\u001b[0;34m)\u001b[0m\u001b[0;34m:\u001b[0m\u001b[0;34m\u001b[0m\u001b[0;34m\u001b[0m\u001b[0m\n\u001b[0;32m--> 585\u001b[0;31m             \u001b[0mself\u001b[0m\u001b[0;34m.\u001b[0m\u001b[0m_check_n_features\u001b[0m\u001b[0;34m(\u001b[0m\u001b[0mX\u001b[0m\u001b[0;34m,\u001b[0m \u001b[0mreset\u001b[0m\u001b[0;34m=\u001b[0m\u001b[0mreset\u001b[0m\u001b[0;34m)\u001b[0m\u001b[0;34m\u001b[0m\u001b[0;34m\u001b[0m\u001b[0m\n\u001b[0m\u001b[1;32m    586\u001b[0m \u001b[0;34m\u001b[0m\u001b[0m\n\u001b[1;32m    587\u001b[0m         \u001b[0;32mreturn\u001b[0m \u001b[0mout\u001b[0m\u001b[0;34m\u001b[0m\u001b[0;34m\u001b[0m\u001b[0m\n",
            "\u001b[0;32m/usr/local/lib/python3.7/dist-packages/sklearn/base.py\u001b[0m in \u001b[0;36m_check_n_features\u001b[0;34m(self, X, reset)\u001b[0m\n\u001b[1;32m    399\u001b[0m         \u001b[0;32mif\u001b[0m \u001b[0mn_features\u001b[0m \u001b[0;34m!=\u001b[0m \u001b[0mself\u001b[0m\u001b[0;34m.\u001b[0m\u001b[0mn_features_in_\u001b[0m\u001b[0;34m:\u001b[0m\u001b[0;34m\u001b[0m\u001b[0;34m\u001b[0m\u001b[0m\n\u001b[1;32m    400\u001b[0m             raise ValueError(\n\u001b[0;32m--> 401\u001b[0;31m                 \u001b[0;34mf\"X has {n_features} features, but {self.__class__.__name__} \"\u001b[0m\u001b[0;34m\u001b[0m\u001b[0;34m\u001b[0m\u001b[0m\n\u001b[0m\u001b[1;32m    402\u001b[0m                 \u001b[0;34mf\"is expecting {self.n_features_in_} features as input.\"\u001b[0m\u001b[0;34m\u001b[0m\u001b[0;34m\u001b[0m\u001b[0m\n\u001b[1;32m    403\u001b[0m             )\n",
            "\u001b[0;31mValueError\u001b[0m: X has 2 features, but StandardScaler is expecting 20 features as input."
          ]
        }
      ]
    },
    {
      "cell_type": "markdown",
      "metadata": {
        "id": "vKYVQH-l5NpE"
      },
      "source": [
        "## Predicting the Test set results"
      ]
    },
    {
      "cell_type": "code",
      "metadata": {
        "id": "p6VMTb2O4hwM",
        "outputId": "19735ebb-3573-4a1e-9bc6-abe805f6fb78",
        "colab": {
          "base_uri": "https://localhost:8080/"
        }
      },
      "source": [
        "y_pred = classifier.predict(X_test)\n",
        "print(np.concatenate((y_pred.reshape(len(y_pred),1), y_test.reshape(len(y_test),1)),1))"
      ],
      "execution_count": 31,
      "outputs": [
        {
          "output_type": "stream",
          "name": "stdout",
          "text": [
            "[[2 3]\n",
            " [0 0]\n",
            " [2 2]\n",
            " [0 2]\n",
            " [1 2]\n",
            " [0 0]\n",
            " [0 0]\n",
            " [2 3]\n",
            " [3 3]\n",
            " [2 1]\n",
            " [1 1]\n",
            " [3 3]\n",
            " [1 0]\n",
            " [2 2]\n",
            " [2 3]\n",
            " [0 0]\n",
            " [3 3]\n",
            " [2 2]\n",
            " [2 2]\n",
            " [0 1]\n",
            " [1 0]\n",
            " [0 0]\n",
            " [3 3]\n",
            " [0 1]\n",
            " [2 2]\n",
            " [2 2]\n",
            " [3 3]\n",
            " [0 1]\n",
            " [3 3]\n",
            " [0 1]\n",
            " [0 1]\n",
            " [3 0]\n",
            " [1 2]\n",
            " [1 0]\n",
            " [1 1]\n",
            " [3 3]\n",
            " [0 0]\n",
            " [0 0]\n",
            " [3 3]\n",
            " [3 3]\n",
            " [3 3]\n",
            " [1 1]\n",
            " [3 3]\n",
            " [1 3]\n",
            " [2 1]\n",
            " [3 3]\n",
            " [0 0]\n",
            " [2 1]\n",
            " [2 3]\n",
            " [0 1]\n",
            " [0 1]\n",
            " [2 3]\n",
            " [0 0]\n",
            " [2 3]\n",
            " [0 0]\n",
            " [2 3]\n",
            " [2 2]\n",
            " [2 2]\n",
            " [0 0]\n",
            " [3 3]\n",
            " [2 3]\n",
            " [3 1]\n",
            " [1 3]\n",
            " [3 2]\n",
            " [0 1]\n",
            " [1 2]\n",
            " [2 3]\n",
            " [2 2]\n",
            " [1 2]\n",
            " [3 2]\n",
            " [2 3]\n",
            " [3 2]\n",
            " [1 1]\n",
            " [0 0]\n",
            " [1 1]\n",
            " [3 3]\n",
            " [3 2]\n",
            " [2 2]\n",
            " [1 1]\n",
            " [0 2]\n",
            " [3 3]\n",
            " [3 3]\n",
            " [2 3]\n",
            " [1 0]\n",
            " [0 0]\n",
            " [1 0]\n",
            " [1 2]\n",
            " [1 1]\n",
            " [1 2]\n",
            " [1 3]\n",
            " [1 1]\n",
            " [1 2]\n",
            " [1 2]\n",
            " [0 1]\n",
            " [1 0]\n",
            " [3 3]\n",
            " [3 3]\n",
            " [2 3]\n",
            " [0 0]\n",
            " [3 3]\n",
            " [0 1]\n",
            " [1 1]\n",
            " [1 2]\n",
            " [1 1]\n",
            " [1 3]\n",
            " [2 2]\n",
            " [0 2]\n",
            " [2 3]\n",
            " [2 2]\n",
            " [2 3]\n",
            " [2 3]\n",
            " [1 0]\n",
            " [2 0]\n",
            " [2 1]\n",
            " [1 3]\n",
            " [2 3]\n",
            " [0 0]\n",
            " [0 0]\n",
            " [0 1]\n",
            " [0 0]\n",
            " [0 0]\n",
            " [1 3]\n",
            " [1 2]\n",
            " [3 2]\n",
            " [1 1]\n",
            " [1 1]\n",
            " [0 1]\n",
            " [1 1]\n",
            " [0 0]\n",
            " [3 2]\n",
            " [0 1]\n",
            " [3 3]\n",
            " [2 2]\n",
            " [3 3]\n",
            " [2 3]\n",
            " [3 3]\n",
            " [2 3]\n",
            " [2 2]\n",
            " [1 0]\n",
            " [0 1]\n",
            " [2 1]\n",
            " [2 2]\n",
            " [0 1]\n",
            " [2 3]\n",
            " [0 1]\n",
            " [2 3]\n",
            " [0 0]\n",
            " [0 0]\n",
            " [1 2]\n",
            " [0 0]\n",
            " [1 1]\n",
            " [1 1]\n",
            " [1 1]\n",
            " [0 1]\n",
            " [3 3]\n",
            " [0 0]\n",
            " [0 0]\n",
            " [3 3]\n",
            " [2 1]\n",
            " [2 3]\n",
            " [1 2]\n",
            " [3 1]\n",
            " [2 3]\n",
            " [1 1]\n",
            " [2 2]\n",
            " [3 3]\n",
            " [2 3]\n",
            " [1 2]\n",
            " [0 1]\n",
            " [0 0]\n",
            " [2 3]\n",
            " [1 1]\n",
            " [0 2]\n",
            " [3 3]\n",
            " [3 3]\n",
            " [1 0]\n",
            " [1 2]\n",
            " [1 2]\n",
            " [3 3]\n",
            " [1 0]\n",
            " [1 2]\n",
            " [1 1]\n",
            " [0 0]\n",
            " [2 1]\n",
            " [2 2]\n",
            " [1 1]\n",
            " [3 2]\n",
            " [0 0]\n",
            " [2 3]\n",
            " [1 3]\n",
            " [1 1]\n",
            " [2 1]\n",
            " [0 0]\n",
            " [2 2]\n",
            " [2 3]\n",
            " [0 0]\n",
            " [0 1]\n",
            " [2 2]\n",
            " [3 2]\n",
            " [0 0]\n",
            " [2 3]\n",
            " [3 3]\n",
            " [2 3]\n",
            " [1 1]\n",
            " [3 2]\n",
            " [2 3]\n",
            " [3 3]\n",
            " [2 3]\n",
            " [0 0]\n",
            " [1 0]\n",
            " [0 0]\n",
            " [1 2]\n",
            " [3 3]\n",
            " [3 3]\n",
            " [0 0]\n",
            " [0 0]\n",
            " [0 1]\n",
            " [3 3]\n",
            " [1 1]\n",
            " [3 3]\n",
            " [2 3]\n",
            " [3 3]\n",
            " [1 0]\n",
            " [0 0]\n",
            " [2 2]\n",
            " [2 3]\n",
            " [2 3]\n",
            " [0 1]\n",
            " [1 0]\n",
            " [1 2]\n",
            " [1 0]\n",
            " [0 0]\n",
            " [0 0]\n",
            " [3 3]\n",
            " [2 2]\n",
            " [0 0]\n",
            " [2 2]\n",
            " [2 2]\n",
            " [1 1]\n",
            " [1 1]\n",
            " [0 0]\n",
            " [1 2]\n",
            " [3 3]\n",
            " [1 3]\n",
            " [1 0]\n",
            " [0 0]\n",
            " [1 1]\n",
            " [3 3]\n",
            " [2 3]\n",
            " [2 2]\n",
            " [3 3]\n",
            " [0 0]\n",
            " [3 3]\n",
            " [1 1]\n",
            " [1 1]\n",
            " [0 0]\n",
            " [2 2]\n",
            " [2 3]\n",
            " [2 3]\n",
            " [1 2]\n",
            " [0 0]\n",
            " [1 0]\n",
            " [1 1]\n",
            " [1 2]\n",
            " [3 3]\n",
            " [3 2]\n",
            " [1 2]\n",
            " [2 3]\n",
            " [2 2]\n",
            " [1 1]\n",
            " [0 0]\n",
            " [3 3]\n",
            " [2 3]\n",
            " [2 2]\n",
            " [3 1]\n",
            " [3 3]\n",
            " [1 2]\n",
            " [1 2]\n",
            " [2 2]\n",
            " [1 1]\n",
            " [0 0]\n",
            " [0 2]\n",
            " [1 2]\n",
            " [1 1]\n",
            " [1 0]\n",
            " [0 0]\n",
            " [1 2]\n",
            " [2 2]\n",
            " [1 2]\n",
            " [0 2]\n",
            " [0 0]\n",
            " [1 1]\n",
            " [2 3]\n",
            " [0 0]\n",
            " [3 1]\n",
            " [3 2]\n",
            " [3 3]\n",
            " [0 0]\n",
            " [3 2]\n",
            " [0 0]\n",
            " [0 1]\n",
            " [2 1]\n",
            " [3 3]\n",
            " [0 0]\n",
            " [0 0]\n",
            " [1 2]\n",
            " [3 3]\n",
            " [1 1]\n",
            " [2 2]\n",
            " [0 0]\n",
            " [2 2]\n",
            " [1 0]\n",
            " [2 3]\n",
            " [1 0]\n",
            " [1 3]\n",
            " [2 3]\n",
            " [2 2]\n",
            " [2 3]\n",
            " [0 1]\n",
            " [0 2]\n",
            " [1 2]\n",
            " [2 1]\n",
            " [0 1]\n",
            " [1 1]\n",
            " [1 0]\n",
            " [1 1]\n",
            " [0 0]\n",
            " [3 3]\n",
            " [2 1]\n",
            " [0 0]\n",
            " [3 3]\n",
            " [1 0]\n",
            " [0 0]\n",
            " [0 1]\n",
            " [2 3]\n",
            " [0 0]\n",
            " [3 3]\n",
            " [1 1]\n",
            " [1 2]\n",
            " [0 0]\n",
            " [0 1]\n",
            " [2 3]\n",
            " [0 0]\n",
            " [1 2]\n",
            " [1 2]\n",
            " [1 1]\n",
            " [1 2]\n",
            " [0 1]\n",
            " [2 1]\n",
            " [0 0]\n",
            " [0 2]\n",
            " [0 0]\n",
            " [1 0]\n",
            " [2 3]\n",
            " [1 1]\n",
            " [2 2]\n",
            " [2 3]\n",
            " [0 2]\n",
            " [2 2]\n",
            " [0 0]\n",
            " [3 3]\n",
            " [2 2]\n",
            " [2 2]\n",
            " [1 1]\n",
            " [2 3]\n",
            " [1 2]\n",
            " [3 3]\n",
            " [2 3]\n",
            " [3 3]\n",
            " [0 0]\n",
            " [1 2]\n",
            " [0 0]\n",
            " [1 3]\n",
            " [0 0]\n",
            " [0 1]\n",
            " [0 1]\n",
            " [2 2]\n",
            " [2 2]\n",
            " [1 1]\n",
            " [3 3]\n",
            " [1 1]\n",
            " [1 2]\n",
            " [0 0]\n",
            " [1 1]\n",
            " [1 2]\n",
            " [3 3]\n",
            " [1 0]\n",
            " [2 0]\n",
            " [1 1]\n",
            " [3 3]\n",
            " [0 0]\n",
            " [1 3]\n",
            " [0 0]\n",
            " [2 2]\n",
            " [1 2]\n",
            " [1 1]\n",
            " [2 1]\n",
            " [1 0]\n",
            " [1 2]\n",
            " [0 1]\n",
            " [0 0]\n",
            " [1 1]\n",
            " [2 3]\n",
            " [0 0]\n",
            " [3 3]\n",
            " [2 3]\n",
            " [0 0]\n",
            " [0 2]\n",
            " [0 1]\n",
            " [2 3]\n",
            " [2 1]\n",
            " [2 1]\n",
            " [2 3]\n",
            " [2 2]\n",
            " [1 0]\n",
            " [3 3]\n",
            " [2 2]\n",
            " [2 2]\n",
            " [1 0]\n",
            " [1 0]\n",
            " [2 3]\n",
            " [2 0]\n",
            " [0 1]\n",
            " [0 1]\n",
            " [2 1]\n",
            " [3 3]\n",
            " [2 2]\n",
            " [2 3]\n",
            " [3 2]\n",
            " [0 0]\n",
            " [3 3]\n",
            " [0 0]\n",
            " [1 0]\n",
            " [1 1]\n",
            " [2 3]\n",
            " [1 0]\n",
            " [1 0]\n",
            " [3 3]\n",
            " [3 2]\n",
            " [1 2]\n",
            " [1 2]\n",
            " [1 3]\n",
            " [0 0]\n",
            " [1 0]\n",
            " [1 1]\n",
            " [2 2]\n",
            " [0 1]\n",
            " [2 2]\n",
            " [0 0]\n",
            " [3 3]\n",
            " [3 3]\n",
            " [1 0]\n",
            " [2 3]\n",
            " [2 3]\n",
            " [0 0]\n",
            " [2 2]\n",
            " [3 2]\n",
            " [0 1]\n",
            " [0 0]\n",
            " [2 2]\n",
            " [0 2]\n",
            " [0 1]\n",
            " [2 3]\n",
            " [1 2]\n",
            " [0 2]\n",
            " [0 0]\n",
            " [0 2]\n",
            " [1 0]\n",
            " [2 3]\n",
            " [2 3]\n",
            " [1 2]\n",
            " [2 1]\n",
            " [0 0]\n",
            " [3 3]\n",
            " [1 1]\n",
            " [1 2]\n",
            " [1 0]\n",
            " [1 0]\n",
            " [2 1]\n",
            " [2 3]\n",
            " [0 0]\n",
            " [2 3]\n",
            " [0 0]\n",
            " [0 0]\n",
            " [1 2]\n",
            " [2 2]\n",
            " [0 0]\n",
            " [1 1]\n",
            " [3 3]\n",
            " [0 0]\n",
            " [1 3]\n",
            " [3 2]\n",
            " [2 1]\n",
            " [2 2]\n",
            " [1 0]\n",
            " [3 3]\n",
            " [0 1]\n",
            " [0 2]\n",
            " [3 3]\n",
            " [1 2]]\n"
          ]
        }
      ]
    },
    {
      "cell_type": "markdown",
      "metadata": {
        "id": "h4Hwj34ziWQW"
      },
      "source": [
        "## Making the Confusion Matrix"
      ]
    },
    {
      "cell_type": "code",
      "metadata": {
        "id": "D6bpZwUiiXic",
        "outputId": "39705964-f14e-46da-9bcb-b206ce786a59",
        "colab": {
          "base_uri": "https://localhost:8080/"
        }
      },
      "source": [
        "from sklearn.metrics import confusion_matrix, accuracy_score\n",
        "cm = confusion_matrix(y_test, y_pred)\n",
        "print(cm)\n",
        "accuracy_score(y_test, y_pred)"
      ],
      "execution_count": 32,
      "outputs": [
        {
          "output_type": "stream",
          "name": "stdout",
          "text": [
            "[[84 36  3  1]\n",
            " [37 50 19  4]\n",
            " [14 46 49 16]\n",
            " [ 0 13 62 66]]\n"
          ]
        },
        {
          "output_type": "execute_result",
          "data": {
            "text/plain": [
              "0.498"
            ]
          },
          "metadata": {},
          "execution_count": 32
        }
      ]
    },
    {
      "cell_type": "markdown",
      "metadata": {
        "id": "6OMC_P0diaoD"
      },
      "source": [
        "## Visualising the Training set results"
      ]
    },
    {
      "cell_type": "code",
      "metadata": {
        "id": "_NOjKvZRid5l",
        "colab": {
          "base_uri": "https://localhost:8080/",
          "height": 380
        },
        "outputId": "5bd08513-4c3e-4b10-8751-5eefe46e329f"
      },
      "source": [
        "from matplotlib.colors import ListedColormap\n",
        "X_set, y_set = sc.inverse_transform(X_train), y_train\n",
        "X1, X2 = np.meshgrid(np.arange(start = X_set[:, 0].min() - 10, stop = X_set[:, 0].max() + 10, step = 1),\n",
        "                     np.arange(start = X_set[:, 1].min() - 1000, stop = X_set[:, 1].max() + 1000, step = 1))\n",
        "plt.contourf(X1, X2, classifier.predict(sc.transform(np.array([X1.ravel(), X2.ravel()]).T)).reshape(X1.shape),\n",
        "             alpha = 0.75, cmap = ListedColormap(('red', 'green')))\n",
        "plt.xlim(X1.min(), X1.max())\n",
        "plt.ylim(X2.min(), X2.max())\n",
        "for i, j in enumerate(np.unique(y_set)):\n",
        "    plt.scatter(X_set[y_set == j, 0], X_set[y_set == j, 1], c = ListedColormap(('red', 'green'))(i), label = j)\n",
        "plt.title('K-NN (Training set)')\n",
        "plt.xlabel('Age')\n",
        "plt.ylabel('Estimated Salary')\n",
        "plt.legend()\n",
        "plt.show()"
      ],
      "execution_count": 33,
      "outputs": [
        {
          "output_type": "error",
          "ename": "ValueError",
          "evalue": "ignored",
          "traceback": [
            "\u001b[0;31m---------------------------------------------------------------------------\u001b[0m",
            "\u001b[0;31mValueError\u001b[0m                                Traceback (most recent call last)",
            "\u001b[0;32m<ipython-input-33-9061e2cf8fe3>\u001b[0m in \u001b[0;36m<module>\u001b[0;34m\u001b[0m\n\u001b[1;32m      3\u001b[0m X1, X2 = np.meshgrid(np.arange(start = X_set[:, 0].min() - 10, stop = X_set[:, 0].max() + 10, step = 1),\n\u001b[1;32m      4\u001b[0m                      np.arange(start = X_set[:, 1].min() - 1000, stop = X_set[:, 1].max() + 1000, step = 1))\n\u001b[0;32m----> 5\u001b[0;31m plt.contourf(X1, X2, classifier.predict(sc.transform(np.array([X1.ravel(), X2.ravel()]).T)).reshape(X1.shape),\n\u001b[0m\u001b[1;32m      6\u001b[0m              alpha = 0.75, cmap = ListedColormap(('red', 'green')))\n\u001b[1;32m      7\u001b[0m \u001b[0mplt\u001b[0m\u001b[0;34m.\u001b[0m\u001b[0mxlim\u001b[0m\u001b[0;34m(\u001b[0m\u001b[0mX1\u001b[0m\u001b[0;34m.\u001b[0m\u001b[0mmin\u001b[0m\u001b[0;34m(\u001b[0m\u001b[0;34m)\u001b[0m\u001b[0;34m,\u001b[0m \u001b[0mX1\u001b[0m\u001b[0;34m.\u001b[0m\u001b[0mmax\u001b[0m\u001b[0;34m(\u001b[0m\u001b[0;34m)\u001b[0m\u001b[0;34m)\u001b[0m\u001b[0;34m\u001b[0m\u001b[0;34m\u001b[0m\u001b[0m\n",
            "\u001b[0;32m/usr/local/lib/python3.7/dist-packages/sklearn/preprocessing/_data.py\u001b[0m in \u001b[0;36mtransform\u001b[0;34m(self, X, copy)\u001b[0m\n\u001b[1;32m    978\u001b[0m             \u001b[0mestimator\u001b[0m\u001b[0;34m=\u001b[0m\u001b[0mself\u001b[0m\u001b[0;34m,\u001b[0m\u001b[0;34m\u001b[0m\u001b[0;34m\u001b[0m\u001b[0m\n\u001b[1;32m    979\u001b[0m             \u001b[0mdtype\u001b[0m\u001b[0;34m=\u001b[0m\u001b[0mFLOAT_DTYPES\u001b[0m\u001b[0;34m,\u001b[0m\u001b[0;34m\u001b[0m\u001b[0;34m\u001b[0m\u001b[0m\n\u001b[0;32m--> 980\u001b[0;31m             \u001b[0mforce_all_finite\u001b[0m\u001b[0;34m=\u001b[0m\u001b[0;34m\"allow-nan\"\u001b[0m\u001b[0;34m,\u001b[0m\u001b[0;34m\u001b[0m\u001b[0;34m\u001b[0m\u001b[0m\n\u001b[0m\u001b[1;32m    981\u001b[0m         )\n\u001b[1;32m    982\u001b[0m \u001b[0;34m\u001b[0m\u001b[0m\n",
            "\u001b[0;32m/usr/local/lib/python3.7/dist-packages/sklearn/base.py\u001b[0m in \u001b[0;36m_validate_data\u001b[0;34m(self, X, y, reset, validate_separately, **check_params)\u001b[0m\n\u001b[1;32m    583\u001b[0m \u001b[0;34m\u001b[0m\u001b[0m\n\u001b[1;32m    584\u001b[0m         \u001b[0;32mif\u001b[0m \u001b[0;32mnot\u001b[0m \u001b[0mno_val_X\u001b[0m \u001b[0;32mand\u001b[0m \u001b[0mcheck_params\u001b[0m\u001b[0;34m.\u001b[0m\u001b[0mget\u001b[0m\u001b[0;34m(\u001b[0m\u001b[0;34m\"ensure_2d\"\u001b[0m\u001b[0;34m,\u001b[0m \u001b[0;32mTrue\u001b[0m\u001b[0;34m)\u001b[0m\u001b[0;34m:\u001b[0m\u001b[0;34m\u001b[0m\u001b[0;34m\u001b[0m\u001b[0m\n\u001b[0;32m--> 585\u001b[0;31m             \u001b[0mself\u001b[0m\u001b[0;34m.\u001b[0m\u001b[0m_check_n_features\u001b[0m\u001b[0;34m(\u001b[0m\u001b[0mX\u001b[0m\u001b[0;34m,\u001b[0m \u001b[0mreset\u001b[0m\u001b[0;34m=\u001b[0m\u001b[0mreset\u001b[0m\u001b[0;34m)\u001b[0m\u001b[0;34m\u001b[0m\u001b[0;34m\u001b[0m\u001b[0m\n\u001b[0m\u001b[1;32m    586\u001b[0m \u001b[0;34m\u001b[0m\u001b[0m\n\u001b[1;32m    587\u001b[0m         \u001b[0;32mreturn\u001b[0m \u001b[0mout\u001b[0m\u001b[0;34m\u001b[0m\u001b[0;34m\u001b[0m\u001b[0m\n",
            "\u001b[0;32m/usr/local/lib/python3.7/dist-packages/sklearn/base.py\u001b[0m in \u001b[0;36m_check_n_features\u001b[0;34m(self, X, reset)\u001b[0m\n\u001b[1;32m    399\u001b[0m         \u001b[0;32mif\u001b[0m \u001b[0mn_features\u001b[0m \u001b[0;34m!=\u001b[0m \u001b[0mself\u001b[0m\u001b[0;34m.\u001b[0m\u001b[0mn_features_in_\u001b[0m\u001b[0;34m:\u001b[0m\u001b[0;34m\u001b[0m\u001b[0;34m\u001b[0m\u001b[0m\n\u001b[1;32m    400\u001b[0m             raise ValueError(\n\u001b[0;32m--> 401\u001b[0;31m                 \u001b[0;34mf\"X has {n_features} features, but {self.__class__.__name__} \"\u001b[0m\u001b[0;34m\u001b[0m\u001b[0;34m\u001b[0m\u001b[0m\n\u001b[0m\u001b[1;32m    402\u001b[0m                 \u001b[0;34mf\"is expecting {self.n_features_in_} features as input.\"\u001b[0m\u001b[0;34m\u001b[0m\u001b[0;34m\u001b[0m\u001b[0m\n\u001b[1;32m    403\u001b[0m             )\n",
            "\u001b[0;31mValueError\u001b[0m: X has 2 features, but StandardScaler is expecting 20 features as input."
          ]
        }
      ]
    },
    {
      "cell_type": "markdown",
      "metadata": {
        "id": "SZ-j28aPihZx"
      },
      "source": [
        "## Visualising the Test set results"
      ]
    },
    {
      "cell_type": "code",
      "metadata": {
        "id": "qeTjz2vDilAC",
        "colab": {
          "base_uri": "https://localhost:8080/",
          "height": 380
        },
        "outputId": "bcb1399d-3e51-4708-a49d-cf907a6482a6"
      },
      "source": [
        "from matplotlib.colors import ListedColormap\n",
        "X_set, y_set = sc.inverse_transform(X_test), y_test\n",
        "X1, X2 = np.meshgrid(np.arange(start = X_set[:, 0].min() - 10, stop = X_set[:, 0].max() + 10, step = 1),\n",
        "                     np.arange(start = X_set[:, 1].min() - 1000, stop = X_set[:, 1].max() + 1000, step = 1))\n",
        "plt.contourf(X1, X2, classifier.predict(sc.transform(np.array([X1.ravel(), X2.ravel()]).T)).reshape(X1.shape),\n",
        "             alpha = 0.75, cmap = ListedColormap(('red', 'green')))\n",
        "plt.xlim(X1.min(), X1.max())\n",
        "plt.ylim(X2.min(), X2.max())\n",
        "for i, j in enumerate(np.unique(y_set)):\n",
        "    plt.scatter(X_set[y_set == j, 0], X_set[y_set == j, 1], c = ListedColormap(('red', 'green'))(i), label = j)\n",
        "plt.title('K-NN (Test set)')\n",
        "plt.xlabel('Age')\n",
        "plt.ylabel('Estimated Salary')\n",
        "plt.legend()\n",
        "plt.show()"
      ],
      "execution_count": 34,
      "outputs": [
        {
          "output_type": "error",
          "ename": "ValueError",
          "evalue": "ignored",
          "traceback": [
            "\u001b[0;31m---------------------------------------------------------------------------\u001b[0m",
            "\u001b[0;31mValueError\u001b[0m                                Traceback (most recent call last)",
            "\u001b[0;32m<ipython-input-34-4086b5de55b9>\u001b[0m in \u001b[0;36m<module>\u001b[0;34m\u001b[0m\n\u001b[1;32m      3\u001b[0m X1, X2 = np.meshgrid(np.arange(start = X_set[:, 0].min() - 10, stop = X_set[:, 0].max() + 10, step = 1),\n\u001b[1;32m      4\u001b[0m                      np.arange(start = X_set[:, 1].min() - 1000, stop = X_set[:, 1].max() + 1000, step = 1))\n\u001b[0;32m----> 5\u001b[0;31m plt.contourf(X1, X2, classifier.predict(sc.transform(np.array([X1.ravel(), X2.ravel()]).T)).reshape(X1.shape),\n\u001b[0m\u001b[1;32m      6\u001b[0m              alpha = 0.75, cmap = ListedColormap(('red', 'green')))\n\u001b[1;32m      7\u001b[0m \u001b[0mplt\u001b[0m\u001b[0;34m.\u001b[0m\u001b[0mxlim\u001b[0m\u001b[0;34m(\u001b[0m\u001b[0mX1\u001b[0m\u001b[0;34m.\u001b[0m\u001b[0mmin\u001b[0m\u001b[0;34m(\u001b[0m\u001b[0;34m)\u001b[0m\u001b[0;34m,\u001b[0m \u001b[0mX1\u001b[0m\u001b[0;34m.\u001b[0m\u001b[0mmax\u001b[0m\u001b[0;34m(\u001b[0m\u001b[0;34m)\u001b[0m\u001b[0;34m)\u001b[0m\u001b[0;34m\u001b[0m\u001b[0;34m\u001b[0m\u001b[0m\n",
            "\u001b[0;32m/usr/local/lib/python3.7/dist-packages/sklearn/preprocessing/_data.py\u001b[0m in \u001b[0;36mtransform\u001b[0;34m(self, X, copy)\u001b[0m\n\u001b[1;32m    978\u001b[0m             \u001b[0mestimator\u001b[0m\u001b[0;34m=\u001b[0m\u001b[0mself\u001b[0m\u001b[0;34m,\u001b[0m\u001b[0;34m\u001b[0m\u001b[0;34m\u001b[0m\u001b[0m\n\u001b[1;32m    979\u001b[0m             \u001b[0mdtype\u001b[0m\u001b[0;34m=\u001b[0m\u001b[0mFLOAT_DTYPES\u001b[0m\u001b[0;34m,\u001b[0m\u001b[0;34m\u001b[0m\u001b[0;34m\u001b[0m\u001b[0m\n\u001b[0;32m--> 980\u001b[0;31m             \u001b[0mforce_all_finite\u001b[0m\u001b[0;34m=\u001b[0m\u001b[0;34m\"allow-nan\"\u001b[0m\u001b[0;34m,\u001b[0m\u001b[0;34m\u001b[0m\u001b[0;34m\u001b[0m\u001b[0m\n\u001b[0m\u001b[1;32m    981\u001b[0m         )\n\u001b[1;32m    982\u001b[0m \u001b[0;34m\u001b[0m\u001b[0m\n",
            "\u001b[0;32m/usr/local/lib/python3.7/dist-packages/sklearn/base.py\u001b[0m in \u001b[0;36m_validate_data\u001b[0;34m(self, X, y, reset, validate_separately, **check_params)\u001b[0m\n\u001b[1;32m    583\u001b[0m \u001b[0;34m\u001b[0m\u001b[0m\n\u001b[1;32m    584\u001b[0m         \u001b[0;32mif\u001b[0m \u001b[0;32mnot\u001b[0m \u001b[0mno_val_X\u001b[0m \u001b[0;32mand\u001b[0m \u001b[0mcheck_params\u001b[0m\u001b[0;34m.\u001b[0m\u001b[0mget\u001b[0m\u001b[0;34m(\u001b[0m\u001b[0;34m\"ensure_2d\"\u001b[0m\u001b[0;34m,\u001b[0m \u001b[0;32mTrue\u001b[0m\u001b[0;34m)\u001b[0m\u001b[0;34m:\u001b[0m\u001b[0;34m\u001b[0m\u001b[0;34m\u001b[0m\u001b[0m\n\u001b[0;32m--> 585\u001b[0;31m             \u001b[0mself\u001b[0m\u001b[0;34m.\u001b[0m\u001b[0m_check_n_features\u001b[0m\u001b[0;34m(\u001b[0m\u001b[0mX\u001b[0m\u001b[0;34m,\u001b[0m \u001b[0mreset\u001b[0m\u001b[0;34m=\u001b[0m\u001b[0mreset\u001b[0m\u001b[0;34m)\u001b[0m\u001b[0;34m\u001b[0m\u001b[0;34m\u001b[0m\u001b[0m\n\u001b[0m\u001b[1;32m    586\u001b[0m \u001b[0;34m\u001b[0m\u001b[0m\n\u001b[1;32m    587\u001b[0m         \u001b[0;32mreturn\u001b[0m \u001b[0mout\u001b[0m\u001b[0;34m\u001b[0m\u001b[0;34m\u001b[0m\u001b[0m\n",
            "\u001b[0;32m/usr/local/lib/python3.7/dist-packages/sklearn/base.py\u001b[0m in \u001b[0;36m_check_n_features\u001b[0;34m(self, X, reset)\u001b[0m\n\u001b[1;32m    399\u001b[0m         \u001b[0;32mif\u001b[0m \u001b[0mn_features\u001b[0m \u001b[0;34m!=\u001b[0m \u001b[0mself\u001b[0m\u001b[0;34m.\u001b[0m\u001b[0mn_features_in_\u001b[0m\u001b[0;34m:\u001b[0m\u001b[0;34m\u001b[0m\u001b[0;34m\u001b[0m\u001b[0m\n\u001b[1;32m    400\u001b[0m             raise ValueError(\n\u001b[0;32m--> 401\u001b[0;31m                 \u001b[0;34mf\"X has {n_features} features, but {self.__class__.__name__} \"\u001b[0m\u001b[0;34m\u001b[0m\u001b[0;34m\u001b[0m\u001b[0m\n\u001b[0m\u001b[1;32m    402\u001b[0m                 \u001b[0;34mf\"is expecting {self.n_features_in_} features as input.\"\u001b[0m\u001b[0;34m\u001b[0m\u001b[0;34m\u001b[0m\u001b[0m\n\u001b[1;32m    403\u001b[0m             )\n",
            "\u001b[0;31mValueError\u001b[0m: X has 2 features, but StandardScaler is expecting 20 features as input."
          ]
        }
      ]
    }
  ]
}