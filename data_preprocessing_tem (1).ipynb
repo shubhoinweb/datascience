{
  "nbformat": 4,
  "nbformat_minor": 0,
  "metadata": {
    "colab": {
      "provenance": [],
      "collapsed_sections": []
    },
    "kernelspec": {
      "name": "python3",
      "display_name": "Python 3"
    }
  },
  "cells": [
    {
      "cell_type": "markdown",
      "metadata": {
        "id": "WOw8yMd1VlnD"
      },
      "source": [
        "# Data Preprocessing Template"
      ]
    },
    {
      "cell_type": "markdown",
      "metadata": {
        "id": "NvUGC8QQV6bV"
      },
      "source": [
        "## Importing the libraries"
      ]
    },
    {
      "cell_type": "code",
      "metadata": {
        "id": "wfFEXZC0WS-V"
      },
      "source": [
        "import numpy as np\n",
        "import matplotlib.pyplot as plt\n",
        "import pandas as pd"
      ],
      "execution_count": 1,
      "outputs": []
    },
    {
      "cell_type": "markdown",
      "metadata": {
        "id": "fhYaZ-ENV_c5"
      },
      "source": [
        "## Importing the dataset"
      ]
    },
    {
      "cell_type": "code",
      "metadata": {
        "id": "aqHTg9bxWT_u"
      },
      "source": [
        "dataset = pd.read_csv('Dataset train.csv')\n",
        "X = dataset.iloc[:, :-1].values\n",
        "y = dataset.iloc[:, -1].values"
      ],
      "execution_count": null,
      "outputs": []
    },
    {
      "cell_type": "markdown",
      "metadata": {
        "id": "3abSxRqvWEIB"
      },
      "source": [
        "## Splitting the dataset into the Training set and Test set"
      ]
    },
    {
      "cell_type": "code",
      "metadata": {
        "id": "hm48sif-WWsh"
      },
      "source": [
        "from sklearn.model_selection import train_test_split\n",
        "X_train, X_test, y_train, y_test = train_test_split(X, y, test_size = 0.2, random_state = 0)"
      ],
      "execution_count": null,
      "outputs": []
    },
    {
      "cell_type": "code",
      "source": [
        "print(X_train)"
      ],
      "metadata": {
        "colab": {
          "base_uri": "https://localhost:8080/"
        },
        "id": "fMDap4dQfZm5",
        "outputId": "1f1af35b-2883-4e85-ac0b-e96171b3de5d"
      },
      "execution_count": null,
      "outputs": [
        {
          "output_type": "stream",
          "name": "stdout",
          "text": [
            "[[1.232e+03 0.000e+00 2.900e+00 ... 1.000e+00 0.000e+00 0.000e+00]\n",
            " [1.840e+03 0.000e+00 5.000e-01 ... 0.000e+00 0.000e+00 0.000e+00]\n",
            " [1.692e+03 0.000e+00 2.100e+00 ... 1.000e+00 1.000e+00 1.000e+00]\n",
            " ...\n",
            " [1.190e+03 0.000e+00 2.000e+00 ... 0.000e+00 0.000e+00 1.000e+00]\n",
            " [1.191e+03 0.000e+00 2.400e+00 ... 1.000e+00 1.000e+00 1.000e+00]\n",
            " [7.060e+02 0.000e+00 5.000e-01 ... 1.000e+00 0.000e+00 1.000e+00]]\n"
          ]
        }
      ]
    },
    {
      "cell_type": "code",
      "source": [
        "print(X_test)"
      ],
      "metadata": {
        "colab": {
          "base_uri": "https://localhost:8080/"
        },
        "id": "tPl6j4yphkjy",
        "outputId": "aa7761f4-2d7a-4663-d50e-3405e25957f3"
      },
      "execution_count": null,
      "outputs": [
        {
          "output_type": "stream",
          "name": "stdout",
          "text": [
            "[[1.454e+03 1.000e+00 5.000e-01 ... 1.000e+00 1.000e+00 0.000e+00]\n",
            " [1.092e+03 1.000e+00 5.000e-01 ... 0.000e+00 1.000e+00 0.000e+00]\n",
            " [1.524e+03 1.000e+00 1.800e+00 ... 1.000e+00 0.000e+00 1.000e+00]\n",
            " ...\n",
            " [5.940e+02 1.000e+00 2.600e+00 ... 0.000e+00 1.000e+00 1.000e+00]\n",
            " [1.673e+03 1.000e+00 1.600e+00 ... 0.000e+00 0.000e+00 0.000e+00]\n",
            " [1.290e+03 0.000e+00 5.000e-01 ... 0.000e+00 1.000e+00 1.000e+00]]\n"
          ]
        }
      ]
    },
    {
      "cell_type": "code",
      "source": [
        "print(y_train)"
      ],
      "metadata": {
        "colab": {
          "base_uri": "https://localhost:8080/"
        },
        "id": "TnO_ucBNhkuA",
        "outputId": "8492939b-c097-4bac-d1e8-ae2ad871cd72"
      },
      "execution_count": null,
      "outputs": [
        {
          "output_type": "stream",
          "name": "stdout",
          "text": [
            "[0 1 3 ... 3 0 1]\n"
          ]
        }
      ]
    },
    {
      "cell_type": "code",
      "source": [
        "print(y_test)"
      ],
      "metadata": {
        "colab": {
          "base_uri": "https://localhost:8080/"
        },
        "id": "QwSlonc7hk2Y",
        "outputId": "501624c1-94d1-418a-8c6a-67810419d54c"
      },
      "execution_count": null,
      "outputs": [
        {
          "output_type": "stream",
          "name": "stdout",
          "text": [
            "[3 0 2 2 2 0 0 3 3 1 1 3 0 2 3 0 3 2 2 1 0 0 3 1 2 2 3 1 3 1 1 0 2 0 1 3 0\n",
            " 0 3 3 3 1 3 3 1 3 0 1 3 1 1 3 0 3 0 3 2 2 0 3 3 1 3 2 1 2 3 2 2 2 3 2 1 0\n",
            " 1 3 2 2 1 2 3 3 3 0 0 0 2 1 2 3 1 2 2 1 0 3 3 3 0 3 1 1 2 1 3 2 2 3 2 3 3\n",
            " 0 0 1 3 3 0 0 1 0 0 3 2 2 1 1 1 1 0 2 1 3 2 3 3 3 3 2 0 1 1 2 1 3 1 3 0 0\n",
            " 2 0 1 1 1 1 3 0 0 3 1 3 2 1 3 1 2 3 3 2 1 0 3 1 2 3 3 0 2 2 3 0 2 1 0 1 2\n",
            " 1 2 0 3 3 1 1 0 2 3 0 1 2 2 0 3 3 3 1 2 3 3 3 0 0 0 2 3 3 0 0 1 3 1 3 3 3\n",
            " 0 0 2 3 3 1 0 2 0 0 0 3 2 0 2 2 1 1 0 2 3 3 0 0 1 3 3 2 3 0 3 1 1 0 2 3 3\n",
            " 2 0 0 1 2 3 2 2 3 2 1 0 3 3 2 1 3 2 2 2 1 0 2 2 1 0 0 2 2 2 2 0 1 3 0 1 2\n",
            " 3 0 2 0 1 1 3 0 0 2 3 1 2 0 2 0 3 0 3 3 2 3 1 2 2 1 1 1 0 1 0 3 1 0 3 0 0\n",
            " 1 3 0 3 1 2 0 1 3 0 2 2 1 2 1 1 0 2 0 0 3 1 2 3 2 2 0 3 2 2 1 3 2 3 3 3 0\n",
            " 2 0 3 0 1 1 2 2 1 3 1 2 0 1 2 3 0 0 1 3 0 3 0 2 2 1 1 0 2 1]\n"
          ]
        }
      ]
    },
    {
      "cell_type": "code",
      "source": [],
      "metadata": {
        "id": "PxPyTOK8hk-I"
      },
      "execution_count": null,
      "outputs": []
    }
  ]
}